{
 "cells": [
  {
   "cell_type": "code",
   "execution_count": 5,
   "metadata": {
    "tags": []
   },
   "outputs": [],
   "source": [
    "f1_stats = {'vg_r1':[24.46, 24.61, 24.87],\n",
    "            'vg_r2':[15.74, 15.837, 15.974],\n",
    "            'cggm_r1':[28.16785,28.7064413,27.89053],\n",
    "            'cggm_r2':[17.9142224,18.16012119,17.8530256],}"
   ]
  },
  {
   "cell_type": "code",
   "execution_count": 6,
   "metadata": {
    "tags": []
   },
   "outputs": [
    {
     "name": "stdout",
     "output_type": "stream",
     "text": [
      "vg_r1 vg_r2 0.0 True\n",
      "cggm_r1 cggm_r2 0.0 True\n"
     ]
    }
   ],
   "source": [
    "comb = [('vg_r1', 'vg_r2'), ('cggm_r1', 'cggm_r2')]\n",
    " \n",
    "import numpy as np\n",
    "from scipy.stats import ttest_ind\n",
    "\n",
    "STAT_DICT = f1_stats\n",
    "\n",
    "m1 = 'ft-albert'\n",
    "m2 = 'va-albert'\n",
    "for m1, m2 in comb:\n",
    "    v1 = STAT_DICT[m1]\n",
    "    v2 = STAT_DICT[m2]\n",
    "    res = ttest_ind(v1, v2)\n",
    "    print(m1, m2,  round(res.pvalue,4), (True if res.pvalue <0.05 else False))"
   ]
  }
 ],
 "metadata": {
  "kernelspec": {
   "display_name": "Python 3 (ipykernel)",
   "language": "python",
   "name": "python3"
  },
  "language_info": {
   "codemirror_mode": {
    "name": "ipython",
    "version": 3
   },
   "file_extension": ".py",
   "mimetype": "text/x-python",
   "name": "python",
   "nbconvert_exporter": "python",
   "pygments_lexer": "ipython3",
   "version": "3.8.16"
  },
  "vscode": {
   "interpreter": {
    "hash": "c6e0777d1a0df2a4bd0f3d146dc1b64bcae571d346f8053e0a194375fb9e0aaf"
   }
  }
 },
 "nbformat": 4,
 "nbformat_minor": 4
}

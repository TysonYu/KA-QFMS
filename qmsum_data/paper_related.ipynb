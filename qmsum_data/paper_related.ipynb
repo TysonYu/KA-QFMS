{
 "cells": [
  {
   "cell_type": "markdown",
   "metadata": {},
   "source": [
    "# 查看数据"
   ]
  },
  {
   "cell_type": "code",
   "execution_count": 33,
   "metadata": {
    "tags": []
   },
   "outputs": [],
   "source": [
    "import pickle\n",
    "import jsonlines"
   ]
  },
  {
   "cell_type": "code",
   "execution_count": 34,
   "metadata": {
    "tags": []
   },
   "outputs": [],
   "source": [
    "with open('processed_data_turn_split/test_all_seg_with_triple.pkl', 'rb') as f:\n",
    "    data = pickle.load(f)\n",
    "    \n",
    "with jsonlines.open('processed_data_turn_split/test.jsonl') as f:\n",
    "    raw = []\n",
    "    for item in f:\n",
    "        raw.append(item)"
   ]
  },
  {
   "cell_type": "code",
   "execution_count": 36,
   "metadata": {
    "tags": []
   },
   "outputs": [
    {
     "name": "stdout",
     "output_type": "stream",
     "text": [
      "<s> what did the group think about the reduction of production costs ? \n",
      "project manager revealed that it would be over budget so they had to make some changes . he proposed to reduce costs by leaving out solar cells and not using voice recognition . then user interface supposed that the buttons could be made of plastics and industrial designer proposed to make the remote control straight and simple .\n",
      "what did the group think about the reduction of production costs ?</s></s>marketing: yeah , i think these are the most important criteria . project manager: okay , well  marketing: so uh  project manager: the then we 'll switch to my presentation . um  marketing: that 's about it .  project manager: the production costs . the costs are not under can i um this is the  user interface: twenty two .  project manager: yeah , it 's it 's w way above um uh above the the the twelve euro fifty .  user interface: yikes .  project manager: and what makes it very expensive is uh for example the solar cell . so i guess we should skip that ,  industrial designer: well it 's very expensive .  project manager: because it 's not that important .  industrial designer: okay .  user interface: why does the price and and the s oh , one uh exa  project manager: yeah , the the price , the the number of items and the the sum .  user interface: yeah . the number of uh yeah .  industrial designer: okay .  project manager: um well , this is what i would call our luxury model . um if you would  user interface: and and does it  project manager: if you look at the uh w w w what we could do to make it more um to make it just between the twelve euro fifty , um then i did the following changes . twelve euro forty cents i came up with by leaving out the solar cells , um by not using the voice recognition feature ,  industrial designer: mm-hmm .  project manager: because it 's uh it 's a four euro uh addition to the price .  industrial designer: mm-hmm .  project manager: um yeah , i believe uh , push-button , well it makes it the thirteen yeah . push-buttons are buttons are are not the most expensive , but do add extra cost .  industrial designer: hmm .  project manager: so um yeah , th this design is not um within our price model .  industrial designer: okay .  project manager: um  industrial designer: but i 'm afraid it 's not complete . because we use spec uh specic uh special materials , the last item . and you have not added one item there .  project manager: yeah .  industrial designer: so it 's c way too expensive . \n",
      "[[{'subject': 'buttons', 'relation': 'add', 'object': 'extra cost'}], 1]\n",
      "what did the group think about the reduction of production costs ?</s></s>user interface: the solar not many remotes have the solar , i think . industrial designer: no . it could have been a little bit more innovative u by using the kinetic uh energy source , but it 's it 's way too  marketing: yeah , and uh  project manager: that would have been a thrill .  industrial designer: yes , but  marketing: so uh also a uh two ?  industrial designer: i think uh it 's a two .  project manager: yep .  marketing: is it easy to use ?  project manager: i 'm not sure . i 'm not sure .  user interface: yeah .  industrial designer:  marketing:  user interface: well yeah , the voice recognition of course is hard to learn , i think . well , hard it 's not for the for the e for the elderly . they wo n't use it .  industrial designer: well , but there are two parts in this remote control . what you see here is is the basic part . everybody can use it , so that 's easy to use .  project manager: yeah .  industrial designer: that 's for a novice user . when you have a more advanced , elaborate user , well , such a user really would like to explore all these additional functions . so in that in that way it is advanced ,  project manager: yeah .  industrial designer: and i think it 's easy to use for for both uh types of users .  user interface: i think i think a three .  industrial designer: so uh it 's maybe it 's not very uh easy for  user interface: would n't give it more .  project manager: uh i 'm doubting doubting as well . um  marketing: well the p the most important function is easy to use . the the zapping , channel switching , volume . but the more advanced functions are probably a bit harder .  project manager: okay . uh two or three ? three ? wha wh what would be your guess ? i mean ease of use um does not only apply to the most basic functions .  industrial designer: okay .  project manager: it 's the uh it 's it 's overall . is the device easy to use ?  industrial designer: yeah , that 's right .\n",
      "[[{'subject': 'p function', 'relation': 'is', 'object': 'easy'}, {'subject': 'p important function', 'relation': 'is', 'object': 'easy'}], 2]\n",
      "what did the group think about the reduction of production costs ?</s></s>project manager: for for the for this t uh type of market , i think it 's a one . user interface: i 'll give a two .  industrial designer: yeah , i 'll give it a one .  marketing: um i think think a one , 'cause v with a voice recognition you could add anything you want , so that 's like um  industrial designer: yes . i i 've i think we 've uh succe succeed in in developing a product that 's actually quite good , but not for this kind of market , and not for this kind of price .  user interface:  project manager: yeah .  industrial designer: so  project manager: so high quality , low acceptance .  industrial designer: hmm .  project manager: the product is is is uh b high qua uh has a high quality and and is uh advanced . but whether or not our clients are are um willing to pay twenty five euros for this kind of device is doub is well , is not sure .  industrial designer: yes . mm-hmm . mm-hmm .  project manager: d do you agree ?  industrial designer: yes , i agree . i  marketing: maybe even because it does n't look advanced .  project manager: yeah . maybe we should have a radar uh function .  industrial designer: yeah , okay .  marketing:  industrial designer: but yes .  user interface: but we could could n't uh what what 's the selling price ? fifty ?  project manager: twenty five euros .  user interface: uh twenty five . and costs were twelve fifty .  project manager: yeah .  user interface: but even now , if only our production costs w uh were exceeded the double , think . production cost was were t uh was twenty two ?  project manager: mm-hmm .  user interface: so uh selling price uh would be uh  industrial designer: m about fifty euros .  user interface: yeah .  industrial designer: that 's quite ex  user interface: that 's price , but w w  industrial designer: well , it 's not it 's not very expensive for a remote control that that has this functionality .  user interface: no . an original remote control of any tv kind , uh a phillips remote control , y you pay uh \n",
      "[[{'subject': 'product', 'relation': 'is', 'object': 'qua'}, {'subject': 'product', 'relation': 'has', 'object': 'quality'}, {'subject': 'product', 'relation': 'is', 'object': 'high qua'}, {'subject': 'product', 'relation': 'has', 'object': 'high quality'}, {'subject': 'product', 'relation': 'is', 'object': 'advanced'}, {'subject': 'production cost', 'relation': 'was', 'object': 'was t'}, {'subject': 'production cost', 'relation': 'was', 'object': 'was t'}], 7]\n",
      "what did the group think about the reduction of production costs ?</s></s>project manager: the means , the smartboard , the digital pen . did you like 'em ? industrial designer: uh . the digital pen was okay , but smartboard was really bad .  user interface: yeah .  project manager: because of the response  industrial designer: it it 's  project manager: or  user interface: response  industrial designer: the response is very slow  user interface: and  industrial designer: and the possibilities are very limited . it 's not accurate .  project manager: okay . uh  user interface: uh it it has yeah . yeah , it 's not accurate . the p the pointing of the pen is not um the place where it it writes its um uh where it uh  marketing: draws .  user interface: yeah , where it draws . it 's uh the drawing on on the b on the board is r right from the pen .  project manager: okay , so  user interface: so uh  project manager: it it had to be um better aligned , or what 's the word ?  user interface: you to take in account that your you m  project manager: uh yeah .  user interface: yeah uh  industrial designer: maybe it 's it needs to be calibrateds .  user interface: it 's too slow  project manager: it it was calibrated just before this meeting . uh the one before , the third meeting .  industrial designer: it is ?  project manager: so uh it 's not the calibration ,  industrial designer: okay .  project manager: it 's the thing itself , i think .  user interface: hmm .  industrial designer: okay .  project manager: uh ruud , w uh did you use the pen a lot ? or not at all ?  marketing: no .  project manager: not at all .  marketing: not really .  project manager: okay . i thought it was quite a handy uh thing ,  industrial designer: i i think so too .  project manager: although i would like to see um o_c_r_ .  user interface: yep .  industrial designer: yes . yes .  user interface: if it has o_c_r_ , uh i think uh i would use , but uh i i just uh took notes for myself and and and that 's it .  project manager: yeah . \n",
      "[[{'subject': 'drawing', 'relation': 'is', 'object': 'r right from pen'}, {'subject': 'drawing', 'relation': 'is', 'object': 'r right'}], 2]\n",
      "what did the group think about the reduction of production costs ?</s></s>user interface: it w it w yeah . it was necessary for me to uh project manager: to digitise them .  user interface: yeah , because if i want something on the computer , i just type it .  project manager: yeah .  user interface: i type faster than i write .  industrial designer: mm-hmm .  project manager: yeah .  user interface: so  industrial designer: but i think it 's a great solution for uh for uh a known problem , uh writing down some notes , some some inf uh information , and then um forgetting your notebook somewhere and losing all that information .  project manager: yeah .  industrial designer: because you have everything in one place and it 's quite easy quite easy it 's it 's possible to make this information digital and share it with others in a quite easy way .  project manager: yeah .  industrial designer: i think it 's a good product . i only think it 's th the the shape of the pen is too big .  project manager: yeah .  industrial designer: it 's not quite uh ergonomic . eco ergonomic .  user interface: economic .  project manager: i know .  user interface:  project manager: yeah . okay . um what w uh ruud , what did you think about the smartboards ?  marketing: oh , i only use it to draw a rabbit ,  project manager: yeah . okay , you ca n't really decide . no .  user interface:  marketing: so ca n't say much about it .  project manager: i missed a feature to easily select uh a slide and uh distribute it to the laptops . i think that would be very easy if you could say okay , i want to use this for my own work or my own presentation further on or  user interface: yeah .  industrial designer: yes .  marketing: no , or the other way around .  project manager: or the other way around , that you could show but m  industrial designer: yes , yes .  user interface: but y you can  industrial designer: that 's quite what powerpoint does .  marketing: yeah .  project manager: i know .  user interface: if you save this image , you can open it in your shared work folder .  project manager: i know , but  user interface: so it 's almost \n",
      "[[{'subject': 'it', 'relation': 'has', 'object': 'product'}, {'subject': 'it', 'relation': 'has', 'object': 'good product'}], 2]\n",
      "what did the group think about the reduction of production costs ?</s></s>project manager: i know , but we could n't use that feature , user interface: yeah .  project manager: so i missed it .  user interface: yep .  project manager: we were n't able to do that . at least the um i was n't explained how to do such a th  user interface: mm-hmm . . a and the function of of filling an an uh an oval or an an object .  industrial designer: an object , yes . yes .  user interface: i it 's not possible  industrial designer: the drawing cap capabilities are very limited .  user interface: yeah .  project manager: okay .  industrial designer: and and uh w you were when you 're using uh windows , you 're used to a certain interface and certain buttons , uh which you can use for drawing .  project manager: yeah .  industrial designer: and a lot of these buttons do n't appear here . so it 's  user interface: oh it looks like paint actually .  project manager: okay , so y it it 's not even as advanced as paint .  industrial designer: not not uh n not way .  project manager: yeah .  industrial designer: it 's quite uh limited .  project manager: okay . uh no .  industrial designer:  marketing:  project manager: yeah , the project is evaluated . um but , well , we need to redesign uh the product .  industrial designer: okay . oh , very good , celebration .  project manager: celebrate  user interface: great .  industrial designer: pop uh pop up the champagne .  project manager: okay . um  user interface: it was a privilege working with you .  project manager: you 're dismissed .  user interface:  project manager: no , i think we are uh ready .  industrial designer: okay .  user interface: to private rooms ?  industrial designer: i see some action over there .  project manager: private room , roo . that sounds quite scary .  industrial designer:  user interface:  industrial designer: okay .  project manager: no , let 's find uh the way to . .  industrial designer:  user interface:  industrial designer: uh we 're done , we 're finished , i believe . so , are there any more cycles in this process ? i think not . \n",
      "[[{'subject': 'we', 'relation': 'redesign', 'object': 'product'}], 1]\n"
     ]
    }
   ],
   "source": [
    "\n",
    "doc_id = 18\n",
    "print(raw[doc_id]['src'].split('</s>')[0])\n",
    "print(raw[doc_id]['tgt'])\n",
    "\n",
    "for key in list(data[doc_id].keys()):\n",
    "    if data[doc_id][key][-1] > 0:\n",
    "        print(key)\n",
    "        print(data[doc_id][key])\n",
    "\n"
   ]
  },
  {
   "cell_type": "markdown",
   "metadata": {},
   "source": [
    "# 不排序"
   ]
  },
  {
   "cell_type": "code",
   "execution_count": 3,
   "metadata": {
    "tags": []
   },
   "outputs": [],
   "source": [
    "import jsonlines\n",
    "import pickle"
   ]
  },
  {
   "cell_type": "code",
   "execution_count": 19,
   "metadata": {
    "tags": []
   },
   "outputs": [],
   "source": [
    "with open('processed_data_turn_split/val_all_seg_with_triple.pkl', 'rb') as f:\n",
    "    src = pickle.load(f)"
   ]
  },
  {
   "cell_type": "code",
   "execution_count": 21,
   "metadata": {
    "tags": []
   },
   "outputs": [],
   "source": [
    "final = []\n",
    "for item in src:\n",
    "    final.append(list(item.keys())[:32])\n",
    "\n",
    "with open('512/val_16_no_rank.pkl', 'wb') as f:\n",
    "    pickle.dump(final, f)"
   ]
  }
 ],
 "metadata": {
  "kernelspec": {
   "display_name": "Python 3 (ipykernel)",
   "language": "python",
   "name": "python3"
  },
  "language_info": {
   "codemirror_mode": {
    "name": "ipython",
    "version": 3
   },
   "file_extension": ".py",
   "mimetype": "text/x-python",
   "name": "python",
   "nbconvert_exporter": "python",
   "pygments_lexer": "ipython3",
   "version": "3.8.16"
  },
  "vscode": {
   "interpreter": {
    "hash": "c6e0777d1a0df2a4bd0f3d146dc1b64bcae571d346f8053e0a194375fb9e0aaf"
   }
  }
 },
 "nbformat": 4,
 "nbformat_minor": 4
}
